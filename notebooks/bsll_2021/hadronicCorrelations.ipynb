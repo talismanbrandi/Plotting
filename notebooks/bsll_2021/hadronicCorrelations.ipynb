{
 "cells": [
  {
   "cell_type": "code",
   "execution_count": 16,
   "metadata": {},
   "outputs": [],
   "source": [
    "import numpy as np\n",
    "import pandas as pd\n",
    "import uproot\n",
    "import matplotlib.pyplot as plt"
   ]
  },
  {
   "cell_type": "code",
   "execution_count": 3,
   "metadata": {},
   "outputs": [],
   "source": [
    "file = uproot.open('/home/apaul/beegfs/bsll-2021/Final-Runs-1/SM/PDD/SM/MCout.root')\n",
    "tree = file['StandardModel_Observables']"
   ]
  },
  {
   "cell_type": "code",
   "execution_count": 6,
   "metadata": {},
   "outputs": [],
   "source": [
    "df = tree.arrays(library='pd')"
   ]
  },
  {
   "cell_type": "code",
   "execution_count": 11,
   "metadata": {},
   "outputs": [],
   "source": [
    "df_tmp = df[['reh_m_1','imh_m_1']]"
   ]
  },
  {
   "cell_type": "code",
   "execution_count": 47,
   "metadata": {},
   "outputs": [],
   "source": [
    "df_tmp['abs'] = np.sqrt(\n",
    "    1/(np.abs(2*df_tmp['reh_m_1'])/np.sqrt(df_tmp['imh_m_1']**2+df_tmp['reh_m_1']**2))*df_tmp['reh_m_1']**2\n",
    "   +1/(np.abs(2*df_tmp['imh_m_1'])/np.sqrt(df_tmp['imh_m_1']**2+df_tmp['reh_m_1']**2))*df_tmp['imh_m_1']**2)\n",
    "\n",
    "df_tmp['abs1'] = np.sqrt(df_tmp['reh_m_1']**2+df_tmp['imh_m_1']**2)"
   ]
  },
  {
   "cell_type": "code",
   "execution_count": 48,
   "metadata": {},
   "outputs": [
    {
     "data": {
      "text/html": [
       "<div>\n",
       "<style scoped>\n",
       "    .dataframe tbody tr th:only-of-type {\n",
       "        vertical-align: middle;\n",
       "    }\n",
       "\n",
       "    .dataframe tbody tr th {\n",
       "        vertical-align: top;\n",
       "    }\n",
       "\n",
       "    .dataframe thead th {\n",
       "        text-align: right;\n",
       "    }\n",
       "</style>\n",
       "<table border=\"1\" class=\"dataframe\">\n",
       "  <thead>\n",
       "    <tr style=\"text-align: right;\">\n",
       "      <th></th>\n",
       "      <th>reh_m_1</th>\n",
       "      <th>imh_m_1</th>\n",
       "      <th>abs</th>\n",
       "      <th>abs1</th>\n",
       "    </tr>\n",
       "  </thead>\n",
       "  <tbody>\n",
       "    <tr>\n",
       "      <th>0</th>\n",
       "      <td>-0.337990</td>\n",
       "      <td>0.612996</td>\n",
       "      <td>0.576928</td>\n",
       "      <td>0.700001</td>\n",
       "    </tr>\n",
       "    <tr>\n",
       "      <th>1</th>\n",
       "      <td>0.748632</td>\n",
       "      <td>2.123089</td>\n",
       "      <td>1.797895</td>\n",
       "      <td>2.251212</td>\n",
       "    </tr>\n",
       "    <tr>\n",
       "      <th>2</th>\n",
       "      <td>-0.618747</td>\n",
       "      <td>0.876583</td>\n",
       "      <td>0.895665</td>\n",
       "      <td>1.072961</td>\n",
       "    </tr>\n",
       "    <tr>\n",
       "      <th>3</th>\n",
       "      <td>0.143149</td>\n",
       "      <td>0.801852</td>\n",
       "      <td>0.620375</td>\n",
       "      <td>0.814529</td>\n",
       "    </tr>\n",
       "    <tr>\n",
       "      <th>4</th>\n",
       "      <td>0.444728</td>\n",
       "      <td>2.336966</td>\n",
       "      <td>1.818981</td>\n",
       "      <td>2.378906</td>\n",
       "    </tr>\n",
       "    <tr>\n",
       "      <th>...</th>\n",
       "      <td>...</td>\n",
       "      <td>...</td>\n",
       "      <td>...</td>\n",
       "      <td>...</td>\n",
       "    </tr>\n",
       "    <tr>\n",
       "      <th>2399995</th>\n",
       "      <td>0.367619</td>\n",
       "      <td>0.380363</td>\n",
       "      <td>0.444785</td>\n",
       "      <td>0.528980</td>\n",
       "    </tr>\n",
       "    <tr>\n",
       "      <th>2399996</th>\n",
       "      <td>-0.808569</td>\n",
       "      <td>-0.549885</td>\n",
       "      <td>0.814966</td>\n",
       "      <td>0.977833</td>\n",
       "    </tr>\n",
       "    <tr>\n",
       "      <th>2399997</th>\n",
       "      <td>1.740076</td>\n",
       "      <td>0.149635</td>\n",
       "      <td>1.284596</td>\n",
       "      <td>1.746498</td>\n",
       "    </tr>\n",
       "    <tr>\n",
       "      <th>2399998</th>\n",
       "      <td>0.349351</td>\n",
       "      <td>2.823189</td>\n",
       "      <td>2.124264</td>\n",
       "      <td>2.844722</td>\n",
       "    </tr>\n",
       "    <tr>\n",
       "      <th>2399999</th>\n",
       "      <td>0.071100</td>\n",
       "      <td>-1.236584</td>\n",
       "      <td>0.899925</td>\n",
       "      <td>1.238626</td>\n",
       "    </tr>\n",
       "  </tbody>\n",
       "</table>\n",
       "<p>2400000 rows × 4 columns</p>\n",
       "</div>"
      ],
      "text/plain": [
       "          reh_m_1   imh_m_1       abs      abs1\n",
       "0       -0.337990  0.612996  0.576928  0.700001\n",
       "1        0.748632  2.123089  1.797895  2.251212\n",
       "2       -0.618747  0.876583  0.895665  1.072961\n",
       "3        0.143149  0.801852  0.620375  0.814529\n",
       "4        0.444728  2.336966  1.818981  2.378906\n",
       "...           ...       ...       ...       ...\n",
       "2399995  0.367619  0.380363  0.444785  0.528980\n",
       "2399996 -0.808569 -0.549885  0.814966  0.977833\n",
       "2399997  1.740076  0.149635  1.284596  1.746498\n",
       "2399998  0.349351  2.823189  2.124264  2.844722\n",
       "2399999  0.071100 -1.236584  0.899925  1.238626\n",
       "\n",
       "[2400000 rows x 4 columns]"
      ]
     },
     "execution_count": 48,
     "metadata": {},
     "output_type": "execute_result"
    }
   ],
   "source": [
    "df_tmp"
   ]
  },
  {
   "cell_type": "code",
   "execution_count": 46,
   "metadata": {},
   "outputs": [
    {
     "data": {
      "image/png": "[encoded data removed]",
      "text/plain": [
       "<Figure size 432x288 with 1 Axes>"
      ]
     },
     "metadata": {
      "needs_background": "light"
     },
     "output_type": "display_data"
    }
   ],
   "source": [
    "plt.hist(df_tmp['abs'].sample(n=100000), bins=50)\n",
    "plt.show()"
   ]
  },
  {
   "cell_type": "code",
   "execution_count": 24,
   "metadata": {},
   "outputs": [
    {
     "data": {
      "text/plain": [
       "(array([1.000e+00, 1.000e+00, 4.000e+00, 2.000e+00, 1.000e+00, 5.000e+00,\n",
       "        7.000e+00, 2.000e+01, 2.800e+01, 6.400e+01, 1.010e+02, 1.910e+02,\n",
       "        2.940e+02, 4.240e+02, 6.380e+02, 9.260e+02, 1.268e+03, 1.591e+03,\n",
       "        2.126e+03, 2.512e+03, 3.239e+03, 3.969e+03, 4.564e+03, 5.273e+03,\n",
       "        5.759e+03, 6.221e+03, 6.532e+03, 6.506e+03, 6.555e+03, 6.298e+03,\n",
       "        5.895e+03, 5.455e+03, 4.859e+03, 4.250e+03, 3.512e+03, 2.899e+03,\n",
       "        2.336e+03, 1.760e+03, 1.259e+03, 9.450e+02, 6.200e+02, 4.310e+02,\n",
       "        2.830e+02, 1.750e+02, 9.100e+01, 6.200e+01, 2.400e+01, 1.100e+01,\n",
       "        9.000e+00, 4.000e+00]),\n",
       " array([-2.24073115, -2.15273595, -2.06474075, -1.97674554, -1.88875034,\n",
       "        -1.80075514, -1.71275994, -1.62476474, -1.53676954, -1.44877434,\n",
       "        -1.36077914, -1.27278394, -1.18478873, -1.09679353, -1.00879833,\n",
       "        -0.92080313, -0.83280793, -0.74481273, -0.65681753, -0.56882233,\n",
       "        -0.48082713, -0.39283192, -0.30483672, -0.21684152, -0.12884632,\n",
       "        -0.04085112,  0.04714408,  0.13513928,  0.22313448,  0.31112968,\n",
       "         0.39912488,  0.48712009,  0.57511529,  0.66311049,  0.75110569,\n",
       "         0.83910089,  0.92709609,  1.01509129,  1.10308649,  1.19108169,\n",
       "         1.2790769 ,  1.3670721 ,  1.4550673 ,  1.5430625 ,  1.6310577 ,\n",
       "         1.7190529 ,  1.8070481 ,  1.8950433 ,  1.9830385 ,  2.07103371,\n",
       "         2.15902891]),\n",
       " <BarContainer object of 50 artists>)"
      ]
     },
     "execution_count": 24,
     "metadata": {},
     "output_type": "execute_result"
    },
    {
     "data": {
      "image/png": "[encoded data removed]",
      "text/plain": [
       "<Figure size 432x288 with 1 Axes>"
      ]
     },
     "metadata": {
      "needs_background": "light"
     },
     "output_type": "display_data"
    }
   ],
   "source": [
    "plt.hist(df_tmp['reh_m_1'].sample(n=100000), bins=50)"
   ]
  },
  {
   "cell_type": "code",
   "execution_count": 27,
   "metadata": {},
   "outputs": [
    {
     "data": {
      "image/png": "[encoded data removed]",
      "text/plain": [
       "<Figure size 432x288 with 1 Axes>"
      ]
     },
     "metadata": {
      "needs_background": "light"
     },
     "output_type": "display_data"
    }
   ],
   "source": [
    "plt.hist(df_tmp['imh_m_1'].sample(n=100000), bins=50)\n",
    "plt.show()"
   ]
  },
  {
   "cell_type": "code",
   "execution_count": null,
   "metadata": {},
   "outputs": [],
   "source": []
  }
 ],
 "metadata": {
  "kernelspec": {
   "display_name": "Python 3",
   "language": "python",
   "name": "python3"
  },
  "language_info": {
   "codemirror_mode": {
    "name": "ipython",
    "version": 3
   },
   "file_extension": ".py",
   "mimetype": "text/x-python",
   "name": "python",
   "nbconvert_exporter": "python",
   "pygments_lexer": "ipython3",
   "version": "3.8.12"
  }
 },
 "nbformat": 4,
 "nbformat_minor": 4
}
