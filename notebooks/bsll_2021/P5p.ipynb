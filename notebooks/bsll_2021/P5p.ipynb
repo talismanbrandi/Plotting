{
 "cells": [
  {
   "cell_type": "code",
   "execution_count": 1,
   "id": "fc08c04f-6d76-44ea-af95-6c2780fdd7d9",
   "metadata": {},
   "outputs": [],
   "source": [
    "import pandas as pd\n",
    "import matplotlib.pyplot as plt\n",
    "import numpy as np\n",
    "from scipy import interpolate\n",
    "plt.rc('text', usetex=True)\n",
    "plt.rcParams['text.latex.preamble'] = r\"\\usepackage{amsmath}\"\n",
    "plt.rcParams['font.family'] = 'monospace'\n",
    "from scipy.interpolate import Rbf, InterpolatedUnivariateSpline\n",
    "import pickle\n",
    "import matplotlib.image as mpimg\n",
    "from matplotlib.lines import Line2D"
   ]
  },
  {
   "cell_type": "markdown",
   "id": "a53afe80-56bc-4701-85c9-64a7b9463f6d",
   "metadata": {
    "tags": []
   },
   "source": [
    "________________\n",
    "## Function for making the plots"
   ]
  },
  {
   "cell_type": "code",
   "execution_count": 2,
   "id": "f837eb03-fd0e-45c8-886f-8286ec4b3f8a",
   "metadata": {},
   "outputs": [],
   "source": [
    "def TErr(err=[]):\n",
    "    return np.sqrt(np.sum([x**2 for x in err]))\n",
    "\n",
    "def formatter(data):\n",
    "    y = [elem[0] for elem in data]\n",
    "    yerr = [elem[1] for elem in data]\n",
    "    x = [(elem[2] + elem[3])/2 for elem in data]\n",
    "    xerr = [(elem[3] - elem[2])/2 for elem in data]\n",
    "    \n",
    "    return x, y, xerr, yerr\n",
    "\n",
    "def placeLogo(bottom, left):\n",
    "    # add the logo\n",
    "    plt3 = plt.twinx()\n",
    "    plt3.axis('off')\n",
    "    plt3.set_ylim(bottom=0, top=1)\n",
    "    logo = mpimg.imread('../../plots/logo/HEPfit-logo.png')\n",
    "    size = 0.5\n",
    "    bottom = bottom\n",
    "    top = bottom + size\n",
    "    left = left\n",
    "    right = left + size*2.3398\n",
    "    extent = (left, right, bottom, top)\n",
    "    imgplot = plt.imshow(logo, extent=extent, alpha=0.85)"
   ]
  },
  {
   "cell_type": "markdown",
   "id": "36f988d2-1d7e-44d4-abb3-4bc19a80ad97",
   "metadata": {},
   "source": [
    "__________________________\n",
    "## Experimental Data"
   ]
  },
  {
   "cell_type": "code",
   "execution_count": 3,
   "id": "fb3e7d07-d01b-4f0f-9711-d267c42eda6a",
   "metadata": {},
   "outputs": [],
   "source": [
    "# Experimental Data\n",
    "\n",
    "### arXiv:1612.05014\n",
    "P5p_BELLE = [[0.42, 0.414367, 0.1, 4.], [-0.025, 0.318002, 4., 8.]]\n",
    "\n",
    "### CMS-PAS-BPH-15-008\n",
    "P5p_CMS = [[0.105, 0.33708, 1., 2.], [-0.555, 0.35795, 2., 4.3],\n",
    "           [-0.955, 0.268, 4.3, 6.], [-0.66, 0.22023, 6., 8.68]]\n",
    "\n",
    "### arXiv:1805.04000\n",
    "P5p_ATLAS = [[0.67, TErr([0.26, 0.16]), 0.04, 2.], [-0.33, TErr([0.31, 0.13]), 2., 4.],\n",
    "             [0.26, TErr([0.35, 0.18]), 4., 6.]]\n",
    "\n",
    "### arXiv:2003.04831\n",
    "P5p_LHCb = [[0.521, TErr([0.095, 0.024]), 0.10, 0.98], [0.365, TErr([0.122, 0.013]), 1.1, 2.5],\n",
    "            [-0.150, TErr([0.144, 0.032]), 2.5, 4.], [-0.439, TErr([0.111, 0.036]), 4., 6.],\n",
    "            [-0.583, TErr([0.090, 0.030]), 6., 8.]]\n",
    "\n",
    "data_d = {}\n",
    "data_d['Belle'] = P5p_BELLE\n",
    "data_d['CMS'] = P5p_CMS\n",
    "data_d['ATLAS'] = P5p_ATLAS\n",
    "data_d['LHCb'] = P5p_LHCb"
   ]
  },
  {
   "cell_type": "markdown",
   "id": "c599bbac-0806-4e46-adbe-a0114ef0ac83",
   "metadata": {},
   "source": [
    "__________________\n",
    "## Dump data for $P_5^\\prime$\n",
    "\n",
    "__NOTE:__ Do not run this unless you have the data. You can load data below."
   ]
  },
  {
   "cell_type": "code",
   "execution_count": 5,
   "id": "2ba76cb8-648b-4794-b78a-a28b5e91af8d",
   "metadata": {},
   "outputs": [],
   "source": [
    "# set dump to True to dump data\n",
    "dump = False\n",
    "\n",
    "if dump:\n",
    "    FDD_path = '../../../TheNewHope/PSR3/SM/FDD/SM/p5p.txt'\n",
    "    PDD_path = '../../../TheNewHope/PSR3/SM/PDD/SM/p5p.txt'\n",
    "    PMD_path = '../../../TheNewHope/PSR3/SM/PMD/SM/p5p.txt'\n",
    "\n",
    "    LHCb_bins = [[x[2], x[3]] for x in P5p_LHCb]\n",
    "    \n",
    "    # data for P5p FDD\n",
    "    P5p_FDD = pd.read_csv(FDD_path, header=None)\n",
    "    P5p_FDD.columns = ['mean', 'sd']\n",
    "    P5p_FDD['upper'] = P5p_FDD['mean'] + P5p_FDD['sd']\n",
    "    P5p_FDD['lower'] = P5p_FDD['mean'] - P5p_FDD['sd']\n",
    "    P5p_FDD['bins'] = LHCb_bins\n",
    "    \n",
    "    # data for P5p PDD\n",
    "    P5p_PDD = pd.read_csv(PDD_path, header=None)\n",
    "    P5p_PDD.columns = ['mean', 'sd']\n",
    "    P5p_PDD['upper'] = P5p_PDD['mean'] + P5p_PDD['sd']\n",
    "    P5p_PDD['lower'] = P5p_PDD['mean'] - P5p_PDD['sd']\n",
    "    P5p_PDD['bins'] = LHCb_bins\n",
    "\n",
    "    # data for P5p PMD\n",
    "    P5p_PMD = pd.read_csv(PMD_path, header=None)\n",
    "    P5p_PMD.columns = ['mean', 'sd']\n",
    "    P5p_PMD['upper'] = P5p_PMD['mean'] + P5p_PMD['sd']\n",
    "    P5p_PMD['lower'] = P5p_PMD['mean'] - P5p_PMD['sd']\n",
    "    P5p_PMD['bins'] = LHCb_bins\n",
    "    \n",
    "    \n",
    "    data = {}\n",
    "    data['FDD'] = P5p_FDD\n",
    "    data['PDD'] = P5p_PDD\n",
    "    data['PMD'] = P5p_PMD\n",
    "    \n",
    "    with open('../../data/bsll_2021/P5p_SM.data', 'wb') as f:\n",
    "        pickle.dump(data, f)"
   ]
  },
  {
   "cell_type": "markdown",
   "id": "80f202c8-c73d-45d7-83c3-399b641c4916",
   "metadata": {
    "tags": []
   },
   "source": [
    "______________\n",
    "## Load Data "
   ]
  },
  {
   "cell_type": "code",
   "execution_count": 4,
   "id": "657b501b-6668-40a9-b9a7-8823945ed047",
   "metadata": {},
   "outputs": [],
   "source": [
    "with open('../../data/bsll_2021/P5p_SM.data', 'rb') as f:\n",
    "    data = pickle.load(f)"
   ]
  },
  {
   "cell_type": "markdown",
   "id": "73bd8bdd-d0eb-491c-97ec-aefb669149f9",
   "metadata": {},
   "source": [
    "______________________\n",
    "## $P_5^\\prime$ plot"
   ]
  },
  {
   "cell_type": "code",
   "execution_count": 6,
   "id": "b5840c2c-06ca-4e83-805f-fc02637b298c",
   "metadata": {},
   "outputs": [
    {
     "data": {
      "image/png": "[encoded data removed]",
      "text/plain": [
       "<Figure size 432x288 with 1 Axes>"
      ]
     },
     "metadata": {
      "needs_background": "light"
     },
     "output_type": "display_data"
    }
   ],
   "source": [
    "plt.figure(figsize=(6,4))\n",
    "\n",
    "colors = ['#E18AD4', '#63a088', '#6699CC', '#56203d']\n",
    "style = ['dashdot', '--', ':', '-']\n",
    "bands = ['orange', 'crimson', 'limegreen']\n",
    "\n",
    "for i, had in enumerate(['FDD', 'PDD', 'PMD']):\n",
    "    for row in data[had].iterrows():\n",
    "        item = row[1]\n",
    "        plt.fill_between(item['bins'], [item.upper, item.upper], [item.lower, item.lower], alpha=0.5, color=bands[i])\n",
    "\n",
    "for i, key in enumerate(['Belle', 'CMS', 'ATLAS', 'LHCb']):\n",
    "    x, y, xerr, yerr = formatter(data_d[key])\n",
    "    eb = plt.errorbar(x, y, xerr=xerr, yerr=yerr, fmt='o', color=colors[i], ecolor=colors[i], elinewidth=2, capsize=8, markersize=8)\n",
    "    eb[-1][0].set_linestyle(style[i])\n",
    "    eb[-1][1].set_linestyle(style[i])\n",
    "    \n",
    "# settings for the plot\n",
    "plt.xlim(0,9)\n",
    "plt.ylim(-1.,1.)\n",
    "plt.grid(':', alpha=0.4)\n",
    "plt.xlabel(r'$q^2\\ [\\rm{GeV}^2]$', fontsize=16)\n",
    "plt.ylabel(r'$P_5^\\prime$', fontsize=16)\n",
    "ax = plt.gca()\n",
    "ax.tick_params(axis='both', which='major', labelsize=14)\n",
    "\n",
    "# add the logo\n",
    "# placeLogo(2.5, 3.8)\n",
    "    \n",
    "# make the legend\n",
    "size = 10\n",
    "line0 = Line2D([0], [0], color=colors[0], linewidth=2, linestyle=style[0], solid_capstyle='butt', alpha=0.8)\n",
    "line1 = Line2D([0], [0], color=colors[1], linewidth=2, linestyle=style[1], solid_capstyle='butt', alpha=0.8)\n",
    "line2 = Line2D([0], [0], color=colors[2], linewidth=2, linestyle=style[2], solid_capstyle='butt', alpha=0.8)\n",
    "line3 = Line2D([0], [0], color=colors[3], linewidth=2, linestyle=style[3], solid_capstyle='butt', alpha=0.8)\n",
    "line4 = Line2D([0], [0], color=bands[0], linewidth=6, linestyle='-', solid_capstyle='butt', alpha=0.5)\n",
    "line5 = Line2D([0], [0], color=bands[1], linewidth=6, linestyle='-', solid_capstyle='butt', alpha=0.5)\n",
    "line6 = Line2D([0], [0], color=bands[2], linewidth=6, linestyle='-', solid_capstyle='butt', alpha=0.5)\n",
    "labels = [r'$\\rm{Belle}$', r'$\\rm{CMS}$', r'$\\rm{ATLAS}$', r'$\\rm{LHCb}$', r'$\\rm{f.d.d.}$', r'$\\rm{p.m.d.}$', r'$\\rm{f.m.d.}$']\n",
    "leg = plt.figlegend(handles=[line0, line1, line2, line3, line4, line5, line6], labels=labels, handlelength=2., labelspacing=0.15, bbox_to_anchor=[0.975, 0.95],\n",
    "                loc='upper right', prop={'size': size}, ncol=1, fancybox=True, framealpha=1, columnspacing=1)\n",
    "    \n",
    "plt.tight_layout()\n",
    "plt.savefig('../../plots/bsll_2021/P5p.pdf', dpi=300)\n",
    "plt.show()"
   ]
  },
  {
   "cell_type": "code",
   "execution_count": null,
   "id": "b05e40e2-8beb-49fc-b1c1-2e87b6bf4121",
   "metadata": {},
   "outputs": [],
   "source": []
  }
 ],
 "metadata": {
  "kernelspec": {
   "display_name": "Python 3",
   "language": "python",
   "name": "python3"
  },
  "language_info": {
   "codemirror_mode": {
    "name": "ipython",
    "version": 3
   },
   "file_extension": ".py",
   "mimetype": "text/x-python",
   "name": "python",
   "nbconvert_exporter": "python",
   "pygments_lexer": "ipython3",
   "version": "3.8.12"
  }
 },
 "nbformat": 4,
 "nbformat_minor": 5
}
